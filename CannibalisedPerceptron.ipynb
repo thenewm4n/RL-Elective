{
 "cells": [
  {
   "cell_type": "code",
   "execution_count": 31,
   "metadata": {},
   "outputs": [],
   "source": [
    "import numpy as np\n",
    "import numpy.matlib \n",
    "import math\n",
    "import matplotlib.pyplot as plt\n",
    "import csv"
   ]
  },
  {
   "cell_type": "code",
   "execution_count": 32,
   "metadata": {},
   "outputs": [],
   "source": [
    "\n",
    "from scipy.io import loadmat"
   ]
  },
  {
   "cell_type": "code",
   "execution_count": 33,
   "metadata": {},
   "outputs": [
    {
     "name": "stderr",
     "output_type": "stream",
     "text": [
      "/var/folders/jd/bpt85r9d2sx4bggpw3wbs6k00000gn/T/ipykernel_51927/115668758.py:50: DeprecationWarning: Conversion of an array with ndim > 0 to a scalar is deprecated, and will error in future. Ensure you extract a single element from your array before performing this operation. (Deprecated NumPy 1.25.)\n",
      "  desired_outputs_training[i, int(training_labels[training_indices[i]])] = 1\n",
      "/var/folders/jd/bpt85r9d2sx4bggpw3wbs6k00000gn/T/ipykernel_51927/115668758.py:54: DeprecationWarning: Conversion of an array with ndim > 0 to a scalar is deprecated, and will error in future. Ensure you extract a single element from your array before performing this operation. (Deprecated NumPy 1.25.)\n",
      "  desired_outputs_test[i, int(test_labels[test_indices[i]])] = 1\n"
     ]
    }
   ],
   "source": [
    "mnist = loadmat('MNIST.mat')\n",
    "\n",
    "# Read the train set\n",
    "training_samples = mnist['x_train']\n",
    "# Read the train labels\n",
    "training_labels = mnist['trainlabels']\n",
    "\n",
    "# Read the test set\n",
    "test_samples = mnist['x_test']\n",
    "# Read the test labels\n",
    "test_labels = mnist['testlabels']\n",
    "\n",
    "# We select only the data for three classes that we want to classify\n",
    "\n",
    "num_classes = 5   # Number of classes (i.e. numbers) we want to be able to classify\n",
    "\n",
    "training_indices = []\n",
    "test_indices = []\n",
    "\n",
    "for i in range(num_classes):\n",
    "    \n",
    "    # Find the indexes of the training set corresponding to class i\n",
    "    training_index = np.where(training_labels == i)[0]\n",
    "    # Find the indexes of the test set corresponding to class i\n",
    "    test_index = np.where(test_labels == i)[0]\n",
    "    \n",
    "    # Append the training indexes in a list\n",
    "    training_indices.append(training_index)\n",
    "    # Append the testing indexes in a list\n",
    "    test_indices.append(test_index)\n",
    "\n",
    "# Reshape the lists to be a 1-d array (rather than lists of arrays, just one big array)\n",
    "training_indices = np.concatenate(training_indices, axis=0)\n",
    "test_indices = np.concatenate(test_indices, axis=0)\n",
    "\n",
    "# Create a training set and a test set with data belonging to the classes considered only\n",
    "training_samples = np.copy(training_samples[training_indices, :])\n",
    "test_samples = np.copy(test_samples[test_indices, :])\n",
    "\n",
    "# Compute the size of the train and test datasets\n",
    "training_size = np.shape(training_indices)[0]\n",
    "test_size = np.shape(test_indices)[0]\n",
    "\n",
    "# Create one-hot encoding labels for train and test datasets\n",
    "desired_outputs_training = np.zeros([training_size, num_classes])\n",
    "desired_outputs_test = np.zeros([test_size, num_classes])\n",
    "\n",
    "for i in range(training_size):\n",
    "\n",
    "    desired_outputs_training[i, int(training_labels[training_indices[i]])] = 1\n",
    "\n",
    "for i in range(test_size):\n",
    "\n",
    "    desired_outputs_test[i, int(test_labels[test_indices[i]])] = 1\n",
    "\n",
    "num_samples, img_size = training_samples.shape"
   ]
  },
  {
   "cell_type": "code",
   "execution_count": 34,
   "metadata": {},
   "outputs": [
    {
     "data": {
      "image/png": "[encoded data removed]",
      "text/plain": [
       "<Figure size 640x480 with 1 Axes>"
      ]
     },
     "metadata": {},
     "output_type": "display_data"
    }
   ],
   "source": [
    "# Example of image, take the transpose to see it in the right orientation\n",
    "example_image = np.reshape(training_samples[0], (28,28))\n",
    "plt.imshow(example_image.T)\n",
    "plt.show()"
   ]
  },
  {
   "cell_type": "code",
   "execution_count": 35,
   "metadata": {},
   "outputs": [],
   "source": [
    "num_epochs = 10\n",
    "batch_size = 20\n",
    "num_batches = int(math.floor(num_samples / batch_size))\n",
    "\n",
    "# define the size of each of the layers in the network\n",
    "size_input_layer  = img_size\n",
    "size_hidden_layer = 100\n",
    "size_output_layer = num_classes\n",
    "\n",
    "# Add another hidden layer\n",
    "n_hidden_layer2 = 100 # number of neurons of the hidden layer. 0 deletes this layer\n",
    "\n",
    "# eta is the learning rate\n",
    "eta = 0.05"
   ]
  },
  {
   "cell_type": "code",
   "execution_count": 36,
   "metadata": {},
   "outputs": [],
   "source": [
    "# Initialize a simple network\n",
    "\n",
    "W1 = np.random.uniform(0, 1, (size_hidden_layer, size_input_layer))\n",
    "W2 = np.random.uniform(0, 1, (size_output_layer, size_hidden_layer))\n",
    "\n",
    "# The following normalises the random weights so that the sum of each row =1\n",
    "W1 = np.divide(W1, np.matlib.repmat(np.sum(W1, 1)[:, None], 1, size_input_layer))\n",
    "W2 = np.divide(W2, np.matlib.repmat(np.sum(W2, 1)[:, None], 1, size_hidden_layer))"
   ]
  },
  {
   "cell_type": "code",
   "execution_count": 37,
   "metadata": {},
   "outputs": [],
   "source": [
    "# Initialize the biases\n",
    "biases_W1 = np.zeros((size_hidden_layer,))\n",
    "biases_W2 = np.zeros((size_output_layer,))"
   ]
  },
  {
   "cell_type": "code",
   "execution_count": 38,
   "metadata": {},
   "outputs": [],
   "source": [
    "# Keep track of the network inputs and average error per epoch\n",
    "errors = np.zeros((num_epochs,))"
   ]
  },
  {
   "cell_type": "code",
   "execution_count": 39,
   "metadata": {},
   "outputs": [
    {
     "ename": "NameError",
     "evalue": "name 'x_train' is not defined",
     "output_type": "error",
     "traceback": [
      "\u001b[0;31m---------------------------------------------------------------------------\u001b[0m",
      "\u001b[0;31mNameError\u001b[0m                                 Traceback (most recent call last)",
      "Cell \u001b[0;32mIn[39], line 23\u001b[0m\n\u001b[1;32m     19\u001b[0m \u001b[38;5;28;01mfor\u001b[39;00m j \u001b[38;5;129;01min\u001b[39;00m \u001b[38;5;28mrange\u001b[39m(\u001b[38;5;241m0\u001b[39m, batch_size):\n\u001b[1;32m     20\u001b[0m \n\u001b[1;32m     21\u001b[0m     \u001b[38;5;66;03m# Input (random element from the dataset)\u001b[39;00m\n\u001b[1;32m     22\u001b[0m     index \u001b[38;5;241m=\u001b[39m shuffled_indices[batch \u001b[38;5;241m*\u001b[39m batch_size \u001b[38;5;241m+\u001b[39m j]\n\u001b[0;32m---> 23\u001b[0m     x0 \u001b[38;5;241m=\u001b[39m \u001b[43mx_train\u001b[49m[idx]\n\u001b[1;32m     25\u001b[0m     \u001b[38;5;66;03m# Neural activation: input layer -> hidden layer\u001b[39;00m\n\u001b[1;32m     26\u001b[0m     h1 \u001b[38;5;241m=\u001b[39m np\u001b[38;5;241m.\u001b[39mdot(W1,x0)\u001b[38;5;241m+\u001b[39mbias_W1\n",
      "\u001b[0;31mNameError\u001b[0m: name 'x_train' is not defined"
     ]
    }
   ],
   "source": [
    "# Train the network\n",
    "\n",
    "for i in range(0, num_epochs):\n",
    "\n",
    "    # We will shuffle the order of the samples each epoch\n",
    "    shuffled_indices = np.random.permutation(num_samples)\n",
    "    \n",
    "    for batch in range(0, num_batches):\n",
    "        \n",
    "        # Initialise the gradients for each batch\n",
    "        W1_gradient = np.zeros(W1.shape)\n",
    "        W2_gradient = np.zeros(W2.shape)\n",
    "\n",
    "        bias_W1_gradient = np.zeros(biases_W1.shape)\n",
    "        bias_W2_gradient = np.zeros(biases_W2.shape)\n",
    "        \n",
    "    \n",
    "        # Loop over all the samples in the batch\n",
    "        for j in range(0, batch_size):\n",
    "\n",
    "            # Input (random element from the dataset)\n",
    "            index = shuffled_indices[batch * batch_size + j]\n",
    "            activations_input = training_samples[index]\n",
    "            \n",
    "            # Neural activation: input layer -> hidden layer\n",
    "            weighted_sums_hidden = np.dot(W1, activations_input) + biases_W1\n",
    "\n",
    "            # Apply the sigmoid function\n",
    "            activations_hidden = 1 / (1 + np.exp(-weighted_sums_hidden))\n",
    "\n",
    "            # Neural activation: hidden layer -> output layer\n",
    "            weighted_sums_output = np.dot(W2, activations_hidden) + biases_W2\n",
    "\n",
    "            # Apply the sigmoid function\n",
    "            activations_output = 1 / (1 + np.exp(-weighted_sums_output))\n",
    "\n",
    "            # Form the desired output, the correct neuron should have 1 the rest 0\n",
    "            desired_output = desired_outputs_training[index]\n",
    "\n",
    "            # Compute the error signal\n",
    "            error = desired_output - activations_output\n",
    "\n",
    "            # Backpropagation: output layer -> hidden layer\n",
    "            delta_output = activations_output * (1 - activations_output) * error\n",
    "            W2_gradient += np.outer(delta_output, activations_hidden)\n",
    "\n",
    "            # Backpropagation: hidden layer -> input layer\n",
    "            delta_hidden = activations_hidden * (1 - activations_hidden) * np.dot(W2.T, delta_output)\n",
    "            W1_gradient += np.outer(delta_hidden, activations_input)\n",
    "\n",
    "            # Store the error per epoch (iterative mean update)\n",
    "            errors[i] = errors[i] + 0.5 * np.sum(np.square(error))/ num_samples\n",
    "\n",
    "        # After each batch update the weights using accumulated gradients\n",
    "        W2 += eta * dW2 / batch_size\n",
    "        W1 += eta * dW1 / batch_size\n",
    "        \n",
    "    print( \"Epoch \", i+1, \": error = \", errors[i])"
   ]
  }
 ],
 "metadata": {
  "kernelspec": {
   "display_name": "Python 3",
   "language": "python",
   "name": "python3"
  },
  "language_info": {
   "codemirror_mode": {
    "name": "ipython",
    "version": 3
   },
   "file_extension": ".py",
   "mimetype": "text/x-python",
   "name": "python",
   "nbconvert_exporter": "python",
   "pygments_lexer": "ipython3",
   "version": "3.10.4"
  }
 },
 "nbformat": 4,
 "nbformat_minor": 2
}
