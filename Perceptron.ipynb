{
 "cells": [
  {
   "cell_type": "code",
   "execution_count": 155,
   "metadata": {},
   "outputs": [],
   "source": [
    "import numpy as np\n",
    "import tensorflow as tf\n",
    "import matplotlib.pyplot as plot\n",
    "import numpy.matlib\n",
    "import math"
   ]
  },
  {
   "cell_type": "code",
   "execution_count": 156,
   "metadata": {},
   "outputs": [],
   "source": [
    "# Accessing MNIST dataset with tensorflow\n",
    "mnist = tf.keras.datasets.mnist\n",
    "(training_images, training_labels), (test_images, test_labels) = mnist.load_data()\n",
    "training_images, test_images = training_images / 255.0, test_images / 255.0"
   ]
  },
  {
   "cell_type": "code",
   "execution_count": 157,
   "metadata": {},
   "outputs": [],
   "source": [
    "def relu(x):\n",
    "    return np.maximum(0, x)"
   ]
  },
  {
   "cell_type": "code",
   "execution_count": 158,
   "metadata": {},
   "outputs": [],
   "source": [
    "def relu_deriv(x):\n",
    "    return np.where(x < 0, 0, 1)"
   ]
  },
  {
   "cell_type": "code",
   "execution_count": 159,
   "metadata": {},
   "outputs": [],
   "source": [
    "def display_images(images, labels, num_images = 10):\n",
    "    figure, axes = plot.subplots(1, num_images, figsize = (20, 2)) # 1 row, num_images number of columns\n",
    "    for i in range(num_images):\n",
    "        axes[i].imshow(images[i], cmap = 'gray')\n",
    "        axes[i].set_title(f\"Label: {labels[i]}\")\n",
    "        axes[i].axis('off')\n",
    "    plot.tight_layout()\n",
    "    plot.show()"
   ]
  },
  {
   "cell_type": "code",
   "execution_count": 160,
   "metadata": {},
   "outputs": [],
   "source": [
    "class Perceptron():\n",
    "    def __init__(self, layer_sizes):\n",
    "        self.layer_sizes = layer_sizes\n",
    "        self.weights = [np.random.uniform(0, 1, (layer_sizes[i + 1], layer_sizes[i])) for i in range(len(layer_sizes) - 1)]       # creates list of matrices; layer_sizes[i]+1 for bias\n",
    "        for i in range(len(self.layer_sizes) - 1):                                                                                          # Normalises weights\n",
    "            self.weights[i] = np.divide(self.weights[i],np.matlib.repmat(np.sum(self.weights[i],1)[:,None],1,self.layer_sizes[i]))\n",
    "        self.weighted_sums = [np.zeros(layer_sizes[i + 1]) for i in range(len(layer_sizes) - 1)]                        # i+1 for same reason as above\n",
    "        self.activations = [np.zeros(layer_sizes[i]) for i in range(len(layer_sizes))]                                  # +1 for bias\n",
    "    \n",
    "    def forward_propagate(self, input_activations):                                                 # input_activations is a vector\n",
    "        self.activations[0][:self.layer_sizes[0] - 1] = input_activations                           # Initialises the input activations as first element in a list of activations for each layer\n",
    "        self.activations[0][-1] = 1\n",
    "        for i in range(len(self.layer_sizes) - 1):\n",
    "            self.weighted_sums[i] = np.dot(self.weights[i], self.activations[i])                    # Bias included as neuron with activation 1 in input layer\n",
    "            self.activations[i + 1] = relu(self.weighted_sums[i])                                   # i+1 because activations includes input layer wheareas others don't; ideally for readability, activations index would be 1 less than weights and biases \n",
    "    \n",
    "    def calculate_cost(self, desired_activations):                                                  # Calculates cost of one image\n",
    "        return 0.5 * np.sum(np.square(self.activations[-1] - desired_activations))\n",
    "\n",
    "    def back_propagate(self, desired_activations):                                                                                  # Calculates gradients for weights\n",
    "        weights_gradient = [np.zeros(self.weights[i].shape) for i in range(len(self.layer_sizes) - 1)]     # Same shape as weights\n",
    "        error = desired_activations - self.activations[-1]\n",
    "\n",
    "        for i in range(len(self.layer_sizes) - 2, -1, -1):                      # Iterates from last layer to first layer\n",
    "            delta = relu_deriv(self.weighted_sums[i]) * error        # Previously self.weighted_sums[i].reshape(-1, 1)\n",
    "            weights_gradient = np.outer(delta, self.activations[i])              # Should result in a matrix (first, dot product between a row and column vector, then element-wise multiplication)\n",
    "            \n",
    "        return weights_gradient\n",
    "        \n",
    "    def adjust_parameters(self, mean_weights_gradient, learning_rate):       # Shift weights and biases according to gradient\n",
    "        for i in range(len(self.layer_sizes) - 1):\n",
    "            self.weights[i] -= learning_rate * mean_weights_gradient[i]\n",
    "\n",
    "    def test_model(self):\n",
    "        incorrect_classifications = 0\n",
    "        for i in range(100):\n",
    "            self.forward_propagate(test_images[i].flatten())\n",
    "            if np.argmax(self.activations[-1]) != test_labels[i]:\n",
    "                incorrect_classifications += 1\n",
    "        \n",
    "        return incorrect_classifications"
   ]
  },
  {
   "cell_type": "code",
   "execution_count": 161,
   "metadata": {},
   "outputs": [],
   "source": [
    "LAYER_SIZES = [785, 10]\n",
    "LEARNING_RATE = 0.001\n",
    "NUM_SAMPLES = 60000     \n",
    "BATCH_SIZE = 20\n",
    "NUM_BATCHES = int(math.floor(NUM_SAMPLES / BATCH_SIZE))\n",
    "NUM_EPOCHS = 10"
   ]
  },
  {
   "cell_type": "code",
   "execution_count": 162,
   "metadata": {},
   "outputs": [],
   "source": [
    "perceptron = Perceptron(LAYER_SIZES)\n",
    "\n",
    "sample_weights_gradient = [np.zeros(perceptron.weights[i].shape) for i in range (len(LAYER_SIZES) - 1)]\n",
    "mean_weights_gradient = [np.zeros(perceptron.weights[i].shape) for i in range(len(LAYER_SIZES) - 1)]\n",
    "\n",
    "costs = []\n",
    "# percentage_error = []"
   ]
  },
  {
   "cell_type": "code",
   "execution_count": 163,
   "metadata": {},
   "outputs": [
    {
     "name": "stdout",
     "output_type": "stream",
     "text": [
      "1.5707229151141272e+95\n",
      "1.479585077612892e+195\n",
      "1.393735318196261e+295\n"
     ]
    },
    {
     "name": "stderr",
     "output_type": "stream",
     "text": [
      "/Library/Frameworks/Python.framework/Versions/3.10/lib/python3.10/site-packages/numpy/core/fromnumeric.py:88: RuntimeWarning: overflow encountered in reduce\n",
      "  return ufunc.reduce(obj, axis, dtype, out, **passkwargs)\n",
      "/var/folders/jd/bpt85r9d2sx4bggpw3wbs6k00000gn/T/ipykernel_77793/1372118435.py:18: RuntimeWarning: overflow encountered in square\n",
      "  return np.sum(np.square(self.activations[-1] - desired_activations))\n"
     ]
    },
    {
     "name": "stdout",
     "output_type": "stream",
     "text": [
      "inf\n"
     ]
    },
    {
     "ename": "KeyboardInterrupt",
     "evalue": "",
     "output_type": "error",
     "traceback": [
      "\u001b[0;31m---------------------------------------------------------------------------\u001b[0m",
      "\u001b[0;31mKeyboardInterrupt\u001b[0m                         Traceback (most recent call last)",
      "Cell \u001b[0;32mIn[163], line 20\u001b[0m\n\u001b[1;32m     17\u001b[0m \u001b[38;5;66;03m#sample_weights_gradient = perceptron.back_propagate(desired_activations)\u001b[39;00m\n\u001b[1;32m     19\u001b[0m \u001b[38;5;28;01mfor\u001b[39;00m k \u001b[38;5;129;01min\u001b[39;00m \u001b[38;5;28mrange\u001b[39m(\u001b[38;5;28mlen\u001b[39m(LAYER_SIZES) \u001b[38;5;241m-\u001b[39m \u001b[38;5;241m1\u001b[39m):                                       \u001b[38;5;66;03m# For each layer apart from input layer, iteratively update mean gradient\u001b[39;00m\n\u001b[0;32m---> 20\u001b[0m     mean_weights_gradient[k] \u001b[38;5;241m+\u001b[39m\u001b[38;5;241m=\u001b[39m  \u001b[43mperceptron\u001b[49m\u001b[38;5;241;43m.\u001b[39;49m\u001b[43mback_propagate\u001b[49m\u001b[43m(\u001b[49m\u001b[43mdesired_activations\u001b[49m\u001b[43m)\u001b[49m[k] \u001b[38;5;241m/\u001b[39m BATCH_SIZE\u001b[38;5;66;03m#sample_weights_gradient[k] / BATCH_SIZE\u001b[39;00m\n\u001b[1;32m     22\u001b[0m \u001b[38;5;28;01mif\u001b[39;00m i \u001b[38;5;241m%\u001b[39m BATCH_SIZE \u001b[38;5;241m==\u001b[39m \u001b[38;5;241m0\u001b[39m \u001b[38;5;129;01mand\u001b[39;00m i \u001b[38;5;241m!=\u001b[39m \u001b[38;5;241m0\u001b[39m:\n\u001b[1;32m     23\u001b[0m     perceptron\u001b[38;5;241m.\u001b[39madjust_parameters(mean_weights_gradient, LEARNING_RATE)\n",
      "Cell \u001b[0;32mIn[160], line 26\u001b[0m, in \u001b[0;36mPerceptron.back_propagate\u001b[0;34m(self, desired_activations)\u001b[0m\n\u001b[1;32m     24\u001b[0m \u001b[38;5;28;01mfor\u001b[39;00m i \u001b[38;5;129;01min\u001b[39;00m \u001b[38;5;28mrange\u001b[39m(\u001b[38;5;28mlen\u001b[39m(\u001b[38;5;28mself\u001b[39m\u001b[38;5;241m.\u001b[39mlayer_sizes) \u001b[38;5;241m-\u001b[39m \u001b[38;5;241m2\u001b[39m, \u001b[38;5;241m-\u001b[39m\u001b[38;5;241m1\u001b[39m, \u001b[38;5;241m-\u001b[39m\u001b[38;5;241m1\u001b[39m):                      \u001b[38;5;66;03m# Iterates from last layer to first layer\u001b[39;00m\n\u001b[1;32m     25\u001b[0m     delta \u001b[38;5;241m=\u001b[39m relu_deriv(\u001b[38;5;28mself\u001b[39m\u001b[38;5;241m.\u001b[39mweighted_sums[i]) \u001b[38;5;241m*\u001b[39m error        \u001b[38;5;66;03m# Previously self.weighted_sums[i].reshape(-1, 1)\u001b[39;00m\n\u001b[0;32m---> 26\u001b[0m     weights_gradient \u001b[38;5;241m=\u001b[39m np\u001b[38;5;241m.\u001b[39mouter(delta, \u001b[38;5;28mself\u001b[39m\u001b[38;5;241m.\u001b[39mactivations[i])              \u001b[38;5;66;03m# Should result in a matrix (first, dot product between a row and column vector, then element-wise multiplication)\u001b[39;00m\n\u001b[1;32m     28\u001b[0m \u001b[38;5;28;01mreturn\u001b[39;00m weights_gradient\n",
      "\u001b[0;31mKeyboardInterrupt\u001b[0m: "
     ]
    }
   ],
   "source": [
    "for i in range(NUM_EPOCHS):\n",
    "    epoch_cost = 0\n",
    "\n",
    "    for batch in range(NUM_BATCHES):\n",
    "        mean_weights_gradient = [np.zeros(perceptron.weights[i].shape) for i in range(len(LAYER_SIZES) - 1)]   # reset mean weights gradient\n",
    "\n",
    "        \n",
    "        for j in range(BATCH_SIZE):\n",
    "            index = BATCH_SIZE * batch + j\n",
    "            perceptron.forward_propagate(training_images[index].flatten())\n",
    "\n",
    "            desired_activations = np.zeros(LAYER_SIZES[-1])                             # Initialises a vector with the size of the number of output nodes\n",
    "            desired_activations[training_labels[index]] = 1.0\n",
    "\n",
    "            epoch_cost += perceptron.calculate_cost(desired_activations) / NUM_SAMPLES        # Cost per epoch\n",
    "\n",
    "            sample_weights_gradient = perceptron.back_propagate(desired_activations)\n",
    "\n",
    "            for k in range(len(LAYER_SIZES) - 1):                                       # For each layer apart from input layer, iteratively update mean gradient\n",
    "                mean_weights_gradient[k] += sample_weights_gradient[k] / BATCH_SIZE\n",
    "            \n",
    "            if i % BATCH_SIZE == 0 and i != 0:\n",
    "                perceptron.adjust_parameters(mean_weights_gradient, LEARNING_RATE)\n",
    "                \n",
    "\n",
    "        perceptron.adjust_parameters(mean_weights_gradient, LEARNING_RATE)\n",
    "    costs.append(epoch_cost)\n",
    "    print(epoch_cost)\n",
    "    #percentage_error.append(perceptron.test_model())\n",
    "    #print(percentage_error[m])"
   ]
  },
  {
   "cell_type": "code",
   "execution_count": null,
   "metadata": {},
   "outputs": [],
   "source": [
    "#for i in range(10):\n",
    "#    perceptron.forward_propagate(test_images[i].flatten())\n",
    "#    print(perceptron.activations[-1])\n",
    "#    # print(np.argmax(perceptron.activations[-1]))\n",
    "\n",
    "# display_images(test_images, test_labels)"
   ]
  },
  {
   "cell_type": "code",
   "execution_count": null,
   "metadata": {},
   "outputs": [
    {
     "data": {
      "text/plain": [
       "Text(0.5, 1.0, 'Average error per epoch')"
      ]
     },
     "execution_count": 118,
     "metadata": {},
     "output_type": "execute_result"
    },
    {
     "data": {
      "image/png": "[encoded data removed]",
      "text/plain": [
       "<Figure size 640x480 with 1 Axes>"
      ]
     },
     "metadata": {},
     "output_type": "display_data"
    }
   ],
   "source": [
    "plot.plot(costs)\n",
    "plot.xlabel('Epoch')\n",
    "plot.ylabel('Error')\n",
    "plot.title('Average error per epoch')"
   ]
  }
 ],
 "metadata": {
  "kernelspec": {
   "display_name": "Python 3",
   "language": "python",
   "name": "python3"
  },
  "language_info": {
   "codemirror_mode": {
    "name": "ipython",
    "version": 3
   },
   "file_extension": ".py",
   "mimetype": "text/x-python",
   "name": "python",
   "nbconvert_exporter": "python",
   "pygments_lexer": "ipython3",
   "version": "3.10.4"
  }
 },
 "nbformat": 4,
 "nbformat_minor": 2
}
