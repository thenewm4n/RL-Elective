{
 "cells": [
  {
   "cell_type": "code",
   "execution_count": 1,
   "metadata": {},
   "outputs": [],
   "source": [
    "import numpy as np\n",
    "import tensorflow as tf\n",
    "import matplotlib.pyplot as plot"
   ]
  },
  {
   "cell_type": "code",
   "execution_count": 2,
   "metadata": {},
   "outputs": [],
   "source": [
    "# Accessing MNIST dataset with tensorflow\n",
    "mnist = tf.keras.datasets.mnist\n",
    "(training_images, training_labels), (test_images, test_labels) = mnist.load_data()\n",
    "training_images, test_images = training_images / 255.0, test_images / 255.0"
   ]
  },
  {
   "cell_type": "code",
   "execution_count": 3,
   "metadata": {},
   "outputs": [],
   "source": [
    "def relu(x):\n",
    "    return np.maximum(0, x)"
   ]
  },
  {
   "cell_type": "code",
   "execution_count": 4,
   "metadata": {},
   "outputs": [],
   "source": [
    "def relu_deriv(x):\n",
    "    return np.where(x < 0, 0, 1)"
   ]
  },
  {
   "cell_type": "code",
   "execution_count": 5,
   "metadata": {},
   "outputs": [],
   "source": [
    "def display_images(images, labels, num_images = 10):\n",
    "    figure, axes = plot.subplots(1, num_images, figsize = (20, 2)) # 1 row, num_images number of columns\n",
    "    for i in range(num_images):\n",
    "        axes[i].imshow(images[i], cmap = 'gray')\n",
    "        axes[i].set_title(f\"Label: {labels[i]}\")\n",
    "        axes[i].axis('off')\n",
    "    plot.tight_layout()\n",
    "    plot.show()"
   ]
  },
  {
   "cell_type": "code",
   "execution_count": 6,
   "metadata": {},
   "outputs": [],
   "source": [
    "class Perceptron():\n",
    "    def __init__(self, layer_sizes):\n",
    "        self.layer_sizes = layer_sizes\n",
    "        self.weights = [np.random.randn(layer_sizes[i + 1], layer_sizes[i]) for i in range(len(layer_sizes) - 1)]    # creates list of matrices\n",
    "        self.biases = [np.random.rand(layer_sizes[i + 1]) for i in range(len(layer_sizes) - 1)]                      # i+1 because biases needed only for layers after input layer\n",
    "        self.weighted_sums = [np.zeros(layer_sizes[i + 1]) for i in range(len(layer_sizes) - 1)]                     # i+1 for same reason as above\n",
    "        self.activations = [np.zeros(layer_sizes[i]) for i in range(len(layer_sizes))]                               # len(layer_sizes) because activations for all layers (input, hidden, and output) stored\n",
    "    \n",
    "    def forward_propagate(self, input_activations):                                               # input_activations is a vector\n",
    "        self.activations[0] = input_activations.flatten()                                         # Initialises the input activations as first element in a list of activations for each layer\n",
    "        for i in range(len(self.layer_sizes) - 1):\n",
    "            self.weighted_sums[i] = np.dot(self.weights[i], self.activations[i]) + self.biases[i]       # This layer's weight minus previous layer's activation + this layer's bias   \n",
    "            self.activations[i + 1] = relu(self.weighted_sums[i])                                       # i+1 because activations includes input layer wheareas others don't; ideally for readability, activations index would be 1 less than weights and biases \n",
    "    \n",
    "    def calculate_cost(self, desired_activations):                                                  # Calculates cost of one image\n",
    "        return np.sum(np.square(self.activations[-1] - desired_activations) / 2)\n",
    "\n",
    "    def back_propagate(self, desired_activations):          # Calculates gradients for weights and biases\n",
    "        weights_gradient = [np.zeros((self.layer_sizes[i + 1], self.layer_sizes[i])) for i in range(len(self.layer_sizes) - 1)]       # Same shape as weights\n",
    "        biases_gradient = [np.zeros(self.layer_sizes[i + 1]) for i in range(len(self.layer_sizes) - 1)]\n",
    "        error = self.activations[-1] - desired_activations\n",
    "\n",
    "        for i in range(len(self.layer_sizes) - 2, -1, -1):                   # Iterates from last layer to first layer                                          # Iterate through layers, starting out output layer\n",
    "            weights_gradient = np.dot(error.reshape(-1, 1), self.activations[i].reshape(1, -1)) * relu_deriv(self.weighted_sums[i].reshape(-1, 1))              # Should result in a matrix (first, dot product between a row and column vector, then element-wise multiplication)\n",
    "            biases_gradient = relu_deriv(self.weighted_sums[i]) * error\n",
    "        \n",
    "        return weights_gradient, biases_gradient\n",
    "        \n",
    "    def adjust_parameters(self, mean_weights_gradient, mean_biases_gradient, learning_rate):       # Shift weights and biases according to gradient\n",
    "        for i in range(len(self.layer_sizes) - 1):\n",
    "            self.weights[i] -= learning_rate * mean_weights_gradient[i]\n",
    "            self.biases[i] -= learning_rate * mean_biases_gradient[i]\n",
    "\n",
    "    def test_model(self):\n",
    "        incorrect_classifications = 0\n",
    "        for i in range(100):\n",
    "            desired_activations = np.zeros(self.layer_sizes[-1])                    # Initialises a vector with the size of the number of output nodes\n",
    "            desired_activations[test_labels[i]] = 1.0\n",
    "            \n",
    "            self.forward_propagate(test_images[i])\n",
    "            if np.argmax(self.activations[-1]) != test_labels[i]:\n",
    "                incorrect_classifications += 1\n",
    "        \n",
    "        return incorrect_classifications"
   ]
  },
  {
   "cell_type": "code",
   "execution_count": 7,
   "metadata": {},
   "outputs": [],
   "source": [
    "LAYER_SIZES = [784, 10]\n",
    "NUM_TRAINING_IMAGES = 30000\n",
    "LEARNING_RATE = 0.1\n",
    "BATCH_SIZE = 1000"
   ]
  },
  {
   "cell_type": "code",
   "execution_count": 8,
   "metadata": {},
   "outputs": [],
   "source": [
    "perceptron = Perceptron(LAYER_SIZES)\n",
    "\n",
    "sample_weights_gradient = [np.zeros((LAYER_SIZES[i + 1], LAYER_SIZES[i])) for i in range(len(LAYER_SIZES) - 1)]             # Same shape as weights\n",
    "sample_biases_gradient = [np.zeros(LAYER_SIZES[i + 1]) for i in range(len(LAYER_SIZES) - 1)]\n",
    "mean_weights_gradient = [np.zeros((LAYER_SIZES[i + 1], LAYER_SIZES[i])) for i in range(len(LAYER_SIZES) - 1)]       # Same shape as weights\n",
    "mean_biases_gradient = [np.zeros(LAYER_SIZES[i + 1]) for i in range(len(LAYER_SIZES) - 1)]\n",
    "\n",
    "total_cost = 0\n",
    "new_cost = 0\n",
    "percentage_error = []"
   ]
  },
  {
   "cell_type": "code",
   "execution_count": 9,
   "metadata": {},
   "outputs": [],
   "source": [
    "for i in range(NUM_TRAINING_IMAGES):\n",
    "    perceptron.forward_propagate(training_images[i])\n",
    "\n",
    "    desired_activations = np.zeros(LAYER_SIZES[-1])                    # Initialises a vector with the size of the number of output nodes\n",
    "    desired_activations[training_labels[i]] = 1.0\n",
    "\n",
    "    total_cost += perceptron.calculate_cost(desired_activations)\n",
    "\n",
    "    sample_weights_gradient, sample_biases_gradient = perceptron.back_propagate(desired_activations)\n",
    "\n",
    "    for j in range(len(LAYER_SIZES) - 1):                           # For each layer apart from input layer, iteratively update mean gradient\n",
    "        mean_weights_gradient[j] += sample_weights_gradient[j] / NUM_TRAINING_IMAGES\n",
    "        mean_biases_gradient[j] += sample_biases_gradient[j] / NUM_TRAINING_IMAGES\n",
    "    \n",
    "    if i % BATCH_SIZE == 0:\n",
    "        perceptron.adjust_parameters(mean_weights_gradient, mean_biases_gradient, LEARNING_RATE)\n",
    "        percentage_error.append(perceptron.test_model())"
   ]
  },
  {
   "cell_type": "code",
   "execution_count": 10,
   "metadata": {},
   "outputs": [],
   "source": [
    "#for i in range(len(LAYER_SIZES) - 1):\n",
    "    #mean_weights_gradient[i] /= NUM_TRAINING_IMAGES\n",
    "    #mean_biases_gradient[i] /= NUM_TRAINING_IMAGES"
   ]
  },
  {
   "cell_type": "code",
   "execution_count": 11,
   "metadata": {},
   "outputs": [],
   "source": [
    "#perceptron.adjust_parameters(mean_weights_gradient, mean_biases_gradient, LEARNING_RATE)"
   ]
  },
  {
   "cell_type": "code",
   "execution_count": 12,
   "metadata": {},
   "outputs": [],
   "source": [
    "for i in range(NUM_TRAINING_IMAGES):\n",
    "    desired_activations = np.zeros(LAYER_SIZES[-1])                    # Initialises a vector with the size of the number of output nodes\n",
    "    desired_activations[training_labels[i]] = 1.0\n",
    "    new_cost += perceptron.calculate_cost(desired_activations)"
   ]
  },
  {
   "cell_type": "code",
   "execution_count": 13,
   "metadata": {},
   "outputs": [
    {
     "name": "stdout",
     "output_type": "stream",
     "text": [
      "Cost: 1660881.3976690355\n",
      "New Cost: 15000.0\n"
     ]
    }
   ],
   "source": [
    "print(\"Cost: \" + str(total_cost))\n",
    "print(\"New Cost: \" + str(new_cost))"
   ]
  },
  {
   "cell_type": "code",
   "execution_count": 14,
   "metadata": {},
   "outputs": [
    {
     "name": "stdout",
     "output_type": "stream",
     "text": [
      "0\n",
      "0\n",
      "0\n",
      "0\n",
      "0\n",
      "0\n",
      "0\n",
      "0\n",
      "0\n",
      "0\n"
     ]
    },
    {
     "data": {
      "image/png": "[encoded data removed]",
      "text/plain": [
       "<Figure size 2000x200 with 10 Axes>"
      ]
     },
     "metadata": {},
     "output_type": "display_data"
    }
   ],
   "source": [
    "for i in range(10):\n",
    "    perceptron.forward_propagate(training_images[i])\n",
    "    print(np.argmax(perceptron.activations[-1]))\n",
    "\n",
    "display_images(training_images, training_labels)"
   ]
  },
  {
   "cell_type": "code",
   "execution_count": 15,
   "metadata": {},
   "outputs": [
    {
     "data": {
      "text/plain": [
       "[<matplotlib.lines.Line2D at 0x177a085b0>]"
      ]
     },
     "execution_count": 15,
     "metadata": {},
     "output_type": "execute_result"
    },
    {
     "data": {
      "image/png": "[encoded data removed]",
      "text/plain": [
       "<Figure size 640x480 with 1 Axes>"
      ]
     },
     "metadata": {},
     "output_type": "display_data"
    }
   ],
   "source": [
    "plot.plot(percentage_error)"
   ]
  }
 ],
 "metadata": {
  "kernelspec": {
   "display_name": "Python 3",
   "language": "python",
   "name": "python3"
  },
  "language_info": {
   "codemirror_mode": {
    "name": "ipython",
    "version": 3
   },
   "file_extension": ".py",
   "mimetype": "text/x-python",
   "name": "python",
   "nbconvert_exporter": "python",
   "pygments_lexer": "ipython3",
   "version": "3.10.4"
  }
 },
 "nbformat": 4,
 "nbformat_minor": 2
}
